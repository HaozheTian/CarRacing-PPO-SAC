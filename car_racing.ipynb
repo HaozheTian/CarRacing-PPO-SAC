{
 "cells": [
  {
   "cell_type": "code",
   "execution_count": null,
   "metadata": {},
   "outputs": [],
   "source": [
    "import gymnasium\n",
    "from torch.utils.tensorboard import SummaryWriter\n",
    "\n",
    "from sac.sac import SAC\n",
    "from env.wrapper import ImageEnv\n",
    "\n",
    "env = gymnasium.make(\"CarRacing-v2\")\n",
    "env = ImageEnv(env)"
   ]
  },
  {
   "cell_type": "code",
   "execution_count": null,
   "metadata": {},
   "outputs": [],
   "source": [
    "agent = SAC(env, ckpt_path='saved/sac_ImageEnv__06_14_2024_20_42/619999.pt')"
   ]
  },
  {
   "cell_type": "code",
   "execution_count": 3,
   "metadata": {},
   "outputs": [
    {
     "name": "stderr",
     "output_type": "stream",
     "text": [
      " 18%|█▊        | 540739/3000000 [10:22:34<41:26:17, 16.49it/s]"
     ]
    }
   ],
   "source": [
    "agent.learn()"
   ]
  }
 ],
 "metadata": {
  "kernelspec": {
   "display_name": "myenv",
   "language": "python",
   "name": "python3"
  },
  "language_info": {
   "codemirror_mode": {
    "name": "ipython",
    "version": 3
   },
   "file_extension": ".py",
   "mimetype": "text/x-python",
   "name": "python",
   "nbconvert_exporter": "python",
   "pygments_lexer": "ipython3",
   "version": "3.9.18"
  }
 },
 "nbformat": 4,
 "nbformat_minor": 2
}
