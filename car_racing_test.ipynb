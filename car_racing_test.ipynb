{
 "cells": [
  {
   "cell_type": "code",
   "execution_count": 1,
   "metadata": {},
   "outputs": [
    {
     "name": "stdout",
     "output_type": "stream",
     "text": [
      "Running on cuda\n",
      "Training from the checkpoint in {self.ckpt_path}\n"
     ]
    }
   ],
   "source": [
    "import gymnasium\n",
    "from torch.utils.tensorboard import SummaryWriter\n",
    "\n",
    "from sac.sac import SAC\n",
    "from env.wrapper import ImageEnv\n",
    "\n",
    "env = gymnasium.make(\"CarRacing-v2\")\n",
    "env = ImageEnv(env)\n",
    "\n",
    "agent = SAC(env, ckpt_path='saved/sac_ImageEnv__06_14_2024_20_42/209999.pt')"
   ]
  },
  {
   "cell_type": "code",
   "execution_count": 2,
   "metadata": {},
   "outputs": [
    {
     "name": "stdout",
     "output_type": "stream",
     "text": [
      "Validation Episode Return: 74.23076923077343, Length: 238\n"
     ]
    },
    {
     "name": "stderr",
     "output_type": "stream",
     "text": [
      "OpenCV: FFMPEG: tag 0x30395056/'VP90' is not supported with codec id 167 and format 'webm / WebM'\n"
     ]
    }
   ],
   "source": [
    "agent.animate()"
   ]
  }
 ],
 "metadata": {
  "kernelspec": {
   "display_name": "myenv",
   "language": "python",
   "name": "python3"
  },
  "language_info": {
   "codemirror_mode": {
    "name": "ipython",
    "version": 3
   },
   "file_extension": ".py",
   "mimetype": "text/x-python",
   "name": "python",
   "nbconvert_exporter": "python",
   "pygments_lexer": "ipython3",
   "version": "3.9.18"
  }
 },
 "nbformat": 4,
 "nbformat_minor": 2
}
